{
 "cells": [
  {
   "cell_type": "markdown",
   "metadata": {},
   "source": [
    "#### Necessary Imports"
   ]
  },
  {
   "cell_type": "code",
   "execution_count": 13,
   "metadata": {},
   "outputs": [],
   "source": [
    "import numpy as np\n",
    "import pandas as pd\n",
    "import seaborn as sn\n",
    "from gensim.models import KeyedVectors\n",
    "import random\n",
    "import re\n",
    "import math\n",
    "from tqdm import tqdm_notebook as tqdm\n",
    "from IPython.display import clear_output\n",
    "import matplotlib.pyplot as plt\n",
    "%matplotlib inline"
   ]
  },
  {
   "cell_type": "markdown",
   "metadata": {},
   "source": [
    "#### Loading Datasets"
   ]
  },
  {
   "cell_type": "code",
   "execution_count": 14,
   "metadata": {},
   "outputs": [],
   "source": [
    "def read_to_df(file_name):\n",
    "    labels, input_data = list(), list()\n",
    "    file = open(file_name, \"r\", encoding=\"utf-8\")\n",
    "    file_lines = file.readlines()\n",
    "    file.close()\n",
    "    data = {\n",
    "        \"label\": [d[0] for d in file_lines],\n",
    "        \"headline\": [d[2:] for d in file_lines]\n",
    "    }\n",
    "    df = pd.DataFrame(data, columns=[\"label\", \"headline\"])\n",
    "    return df"
   ]
  },
  {
   "cell_type": "code",
   "execution_count": 15,
   "metadata": {},
   "outputs": [],
   "source": [
    "train_df = read_to_df(\"train.txt\")\n",
    "test_df = read_to_df(\"test.txt\")"
   ]
  },
  {
   "cell_type": "markdown",
   "metadata": {},
   "source": [
    "* *Reading Stop Words*"
   ]
  },
  {
   "cell_type": "code",
   "execution_count": 16,
   "metadata": {},
   "outputs": [],
   "source": [
    "file = open(\"stopwords.txt\", \"r\")\n",
    "stop_words = file.read().split()\n",
    "file.close()"
   ]
  },
  {
   "cell_type": "markdown",
   "metadata": {},
   "source": [
    "#### Loading Word Vectors"
   ]
  },
  {
   "cell_type": "code",
   "execution_count": 5,
   "metadata": {},
   "outputs": [
    {
     "name": "stderr",
     "output_type": "stream",
     "text": [
      "C:\\Users\\Saad Ullah\\Anaconda3\\lib\\site-packages\\smart_open\\smart_open_lib.py:402: UserWarning: This function is deprecated, use smart_open.open instead. See the migration notes for details: https://github.com/RaRe-Technologies/smart_open/blob/master/README.rst#migrating-to-the-new-open-function\n",
      "  'See the migration notes for details: %s' % _MIGRATION_NOTES_URL\n"
     ]
    }
   ],
   "source": [
    "word_vectors = KeyedVectors.load_word2vec_format(\"GoogleNews-vectors-negative300.bin\", binary=True)"
   ]
  },
  {
   "cell_type": "markdown",
   "metadata": {},
   "source": [
    "#### Analysing Training Dataset"
   ]
  },
  {
   "cell_type": "code",
   "execution_count": 17,
   "metadata": {},
   "outputs": [
    {
     "data": {
      "text/html": [
       "<div>\n",
       "<style scoped>\n",
       "    .dataframe tbody tr th:only-of-type {\n",
       "        vertical-align: middle;\n",
       "    }\n",
       "\n",
       "    .dataframe tbody tr th {\n",
       "        vertical-align: top;\n",
       "    }\n",
       "\n",
       "    .dataframe thead th {\n",
       "        text-align: right;\n",
       "    }\n",
       "</style>\n",
       "<table border=\"1\" class=\"dataframe\">\n",
       "  <thead>\n",
       "    <tr style=\"text-align: right;\">\n",
       "      <th></th>\n",
       "      <th>label</th>\n",
       "      <th>headline</th>\n",
       "    </tr>\n",
       "  </thead>\n",
       "  <tbody>\n",
       "    <tr>\n",
       "      <th>0</th>\n",
       "      <td>1</td>\n",
       "      <td>paramount executive snaps up script that begin...</td>\n",
       "    </tr>\n",
       "    <tr>\n",
       "      <th>1</th>\n",
       "      <td>1</td>\n",
       "      <td>increasingly paranoid campbell's begins stockp...</td>\n",
       "    </tr>\n",
       "    <tr>\n",
       "      <th>2</th>\n",
       "      <td>1</td>\n",
       "      <td>monster truck escapes\\n</td>\n",
       "    </tr>\n",
       "    <tr>\n",
       "      <th>3</th>\n",
       "      <td>0</td>\n",
       "      <td>sunday roundup\\n</td>\n",
       "    </tr>\n",
       "    <tr>\n",
       "      <th>4</th>\n",
       "      <td>1</td>\n",
       "      <td>birthday card for david axelrod circling aroun...</td>\n",
       "    </tr>\n",
       "  </tbody>\n",
       "</table>\n",
       "</div>"
      ],
      "text/plain": [
       "  label                                           headline\n",
       "0     1  paramount executive snaps up script that begin...\n",
       "1     1  increasingly paranoid campbell's begins stockp...\n",
       "2     1                            monster truck escapes\\n\n",
       "3     0                                   sunday roundup\\n\n",
       "4     1  birthday card for david axelrod circling aroun..."
      ]
     },
     "execution_count": 17,
     "metadata": {},
     "output_type": "execute_result"
    }
   ],
   "source": [
    "train_df.head()"
   ]
  },
  {
   "cell_type": "code",
   "execution_count": 18,
   "metadata": {},
   "outputs": [
    {
     "data": {
      "text/plain": [
       "(22892, 2)"
      ]
     },
     "execution_count": 18,
     "metadata": {},
     "output_type": "execute_result"
    }
   ],
   "source": [
    "train_df.shape"
   ]
  },
  {
   "cell_type": "markdown",
   "metadata": {},
   "source": [
    "* *Plotting to check for skewness*"
   ]
  },
  {
   "cell_type": "code",
   "execution_count": 19,
   "metadata": {},
   "outputs": [
    {
     "data": {
      "text/plain": [
       "Text(0.5, 0, 'Labels')"
      ]
     },
     "execution_count": 19,
     "metadata": {},
     "output_type": "execute_result"
    },
    {
     "data": {
      "image/png": "[encoded data removed]",
      "text/plain": [
       "<Figure size 432x288 with 1 Axes>"
      ]
     },
     "metadata": {
      "needs_background": "light"
     },
     "output_type": "display_data"
    }
   ],
   "source": [
    "ax = (train_df['label'].value_counts(normalize=True)*100).plot(\n",
    "        kind=\"bar\", title='Percentage of Specific Labeled Data in given Dataset')\n",
    "ax.tick_params(axis='x', labelrotation=0)\n",
    "ax.set_ylabel('Percentages %')\n",
    "ax.set_xlabel('Labels')"
   ]
  },
  {
   "cell_type": "markdown",
   "metadata": {},
   "source": [
    "### Preprocessing (Data Cleaning & Word2Vec)"
   ]
  },
  {
   "cell_type": "code",
   "execution_count": 55,
   "metadata": {},
   "outputs": [],
   "source": [
    "def clean_text(text, stopwords):\n",
    "    '''\n",
    "        Cleans Text\n",
    "        \n",
    "        Arguments\n",
    "        ---------\n",
    "        text : str            \n",
    "            \n",
    "        stopwords: list\n",
    "            Array of shape (x, ), where x is the number of stopwords \n",
    "        \n",
    "        Returns\n",
    "        --------\n",
    "        cleaned_text: list\n",
    "            Array of shape (n, ), where n is the number of words in cleaned text\n",
    "    '''\n",
    "    cleaned_text = None\n",
    "\n",
    "    cleaned_text = re.sub(\"[^\\w]\", \" \", text) # Removing punctautions\n",
    "    cleaned_text = cleaned_text.lower() # Converting to lower case\n",
    "    cleaned_text = cleaned_text.split() # Tokenizing\n",
    "    cleaned_text = [x for x in cleaned_text if x not in stopwords] # Removing Stopwords\n",
    "        \n",
    "    return cleaned_text\n",
    "\n",
    "def preprocessing(df, word_vectors, stop_words):\n",
    "    labels, feature_vec = list(), list()\n",
    "    for i in tqdm(range(len(df))):\n",
    "        # Cleaning (Stop words, punctuations)\n",
    "        cleaned_text = clean_text(df[\"headline\"][i], stop_words)\n",
    "        # Extract vec of all words in a sentence from bin file\n",
    "        word2vec = np.array([word_vectors[word] for word in cleaned_text if word in word_vectors])\n",
    "        # Take average of them to get feature vector\n",
    "        if word2vec.size:\n",
    "            feature_vec.append(np.mean(word2vec, axis=0))\n",
    "            labels.append(df[\"label\"][i])\n",
    "    feature_vec = np.array(feature_vec)\n",
    "    labels = np.array(labels).astype('int64')\n",
    "    return labels, feature_vec"
   ]
  },
  {
   "cell_type": "code",
   "execution_count": 56,
   "metadata": {},
   "outputs": [
    {
     "data": {
      "application/vnd.jupyter.widget-view+json": {
       "model_id": "f83ef68a2ebb45219a56e4dc79491386",
       "version_major": 2,
       "version_minor": 0
      },
      "text/plain": [
       "HBox(children=(IntProgress(value=0, max=22892), HTML(value='')))"
      ]
     },
     "metadata": {},
     "output_type": "display_data"
    },
    {
     "name": "stdout",
     "output_type": "stream",
     "text": [
      "\n"
     ]
    }
   ],
   "source": [
    "train_Y, train_X = preprocessing(train_df, word_vectors, stop_words)"
   ]
  },
  {
   "cell_type": "code",
   "execution_count": 57,
   "metadata": {},
   "outputs": [
    {
     "data": {
      "application/vnd.jupyter.widget-view+json": {
       "model_id": "f79a4649d98d40b18150dbffb14ea2a6",
       "version_major": 2,
       "version_minor": 0
      },
      "text/plain": [
       "HBox(children=(IntProgress(value=0, max=5724), HTML(value='')))"
      ]
     },
     "metadata": {},
     "output_type": "display_data"
    },
    {
     "name": "stdout",
     "output_type": "stream",
     "text": [
      "\n"
     ]
    }
   ],
   "source": [
    "test_Y, test_X = preprocessing(test_df, word_vectors, stop_words)"
   ]
  },
  {
   "cell_type": "markdown",
   "metadata": {},
   "source": [
    "### Logistic Regression"
   ]
  },
  {
   "cell_type": "code",
   "execution_count": null,
   "metadata": {},
   "outputs": [],
   "source": []
  },
  {
   "cell_type": "markdown",
   "metadata": {},
   "source": [
    "### KNN"
   ]
  },
  {
   "cell_type": "markdown",
   "metadata": {},
   "source": [
    "* ***Preprocessing Dataset & Feature Normalization***"
   ]
  },
  {
   "cell_type": "code",
   "execution_count": 62,
   "metadata": {},
   "outputs": [],
   "source": [
    "def mean_normalize(inp):\n",
    "    inp = (inp - np.mean(inp))/(np.std(inp))\n",
    "    return inp\n",
    "\n",
    "def knn_preprocessor(X, Y):\n",
    "    '''\n",
    "        Converts Dataframe to a list of JSON objects, separating 'features' and 'label'\n",
    "        \n",
    "        Arguments\n",
    "        ---------\n",
    "        df : Pandas Dataframe\n",
    "            Dataframe of shape (m, n), where m is number of rows and n is the number of columns\n",
    "            \n",
    "        n: int\n",
    "            Number of features\n",
    "        \n",
    "        Returns\n",
    "        -------\n",
    "        data: list of JSON Objects\n",
    "            Array of shape (m, ), where m is number of instances and every element is a JSON object with \n",
    "            2 keys 'features' that is a NUMPY array of shape (n, ) where n is the number of features and \n",
    "            'label' is an integer representing encoded label of that instance\n",
    "    '''\n",
    "    data = list()\n",
    "    m = Y.size\n",
    "    n = X[0].size\n",
    "    # Mean Normalizing Feature Vector\n",
    "    X = np.apply_along_axis(mean_normalize, 0, X)\n",
    "    # Preprocessing\n",
    "    for i in tqdm(range(m)):\n",
    "        data.append({'features': X[i], 'label': int(Y[i])})\n",
    "    return data"
   ]
  },
  {
   "cell_type": "markdown",
   "metadata": {},
   "source": [
    "* ***Functions to find K Nearest Neighbours using QuickSelect and Order Statistics in O(n)***"
   ]
  },
  {
   "cell_type": "code",
   "execution_count": 81,
   "metadata": {},
   "outputs": [],
   "source": [
    "def equality_check(arr):\n",
    "    temp = arr[0][\"distance\"]\n",
    "    for x in arr:\n",
    "        if x[\"distance\"] != temp:\n",
    "            return False\n",
    "    return True\n",
    "\n",
    "def sort_by_pivot(arr, start, end):\n",
    "    '''\n",
    "        * Uses the concept of QUICKSELECT and ORDER STATISTICS, and chooses a random element 'pivot' \n",
    "        and puts it at a postion 'i', where arr[i] >= arr[j] for all (j < i) and arr[i] <= arr[k] for \n",
    "        all (k > i).\n",
    "        * Or Returns the index of 'pivot-th' smallest element of the 'arr'.\n",
    "        * Time Complexity = O(n)\n",
    "        \n",
    "        Arguments\n",
    "        ---------\n",
    "        arr: list\n",
    "            Array of shape (m, ), where m is the number of elements in the list\n",
    "        \n",
    "        start, end: int, int\n",
    "            Start and end index of arr between which you want to find pivot and sort it accordingly\n",
    "        \n",
    "        Returns\n",
    "        -------\n",
    "        pivot: int\n",
    "            Current position of the correctly sorted pivot in the arr. Element at 'pivot' \n",
    "            will be the 'pivot-th' smallest element in arr.\n",
    "    '''\n",
    "    pivot = random.randint(start,end)\n",
    "    pivot_val = arr[pivot]['distance']\n",
    "    i = -1\n",
    "    j = end\n",
    "    temp = arr[pivot]\n",
    "    arr[pivot] = arr[j]\n",
    "    arr[j] = temp\n",
    "    i_start = True\n",
    "    while True:\n",
    "        if i_start:\n",
    "            i = i + 1\n",
    "            if arr[i]['distance'] >= pivot_val:\n",
    "                i_start = False\n",
    "        if i == j:\n",
    "            t = arr[i]\n",
    "            arr[i] = arr[end]\n",
    "            arr[end] = t\n",
    "            break\n",
    "        if not i_start:\n",
    "            j = j - 1\n",
    "        if arr[j]['distance'] < pivot_val and not i_start:\n",
    "            t = arr[i]\n",
    "            arr[i] = arr[j]\n",
    "            arr[j] = t\n",
    "            i_start = True\n",
    "    pivot = i\n",
    "    return pivot\n",
    "\n",
    "def get_KNN(arr, k):\n",
    "    '''\n",
    "        * Uses the concept of QUICKSELECT and ORDER STATISTICS, and returns the 'k' smallest elements from the 'arr'.\n",
    "        * Time Complexity = O(n)\n",
    "        \n",
    "        Arguments\n",
    "        ---------\n",
    "        arr: list\n",
    "            Array of shape (m, ), where m is the number of elements in the list\n",
    "        \n",
    "        k: int\n",
    "            The number of smallest elements that are to be returned.\n",
    "        \n",
    "        Returns\n",
    "        -------\n",
    "        pivot: int\n",
    "            Current position of the correctly sorted pivot in the arr. Element at 'pivot' \n",
    "            will be the 'pivot-th' smallest element in arr.\n",
    "    '''\n",
    "    if k > len(arr):\n",
    "        return \"Invalid Input\"\n",
    "    start = 0\n",
    "    end = len(arr) - 1\n",
    "    inf = 0\n",
    "    while True:\n",
    "        if start == end or (equality_check(arr[0:k]) and k > 1):\n",
    "            return arr[0:k]\n",
    "        index = sort_by_pivot(arr, start, end)\n",
    "        if index == (k - 1):\n",
    "            return arr[0:k]\n",
    "        elif index < (k - 1):\n",
    "            start = index + 1\n",
    "        else:\n",
    "            end = index - 1\n",
    "        inf += 1\n",
    "            \n",
    "def get_max_label(arr, num_classes):\n",
    "    '''\n",
    "        Returns the label that occurs the most in the 'arr'.\n",
    "        \n",
    "        Arguments\n",
    "        ---------\n",
    "        arr: list\n",
    "            Array of shape (m, ), where m is the number of elements in the list\n",
    "        \n",
    "        num_classes: int\n",
    "            Number of classes in the dataset\n",
    "        \n",
    "        Returns\n",
    "        -------\n",
    "        label: int\n",
    "            The encoded label of the most occured label in the 'arr'\n",
    "    '''\n",
    "    label = None\n",
    "    label_count = np.zeros(num_classes)\n",
    "    for x in arr:\n",
    "        label_count[x['label']] += 1\n",
    "    label = np.argmax(label_count)\n",
    "    return label\n",
    "\n",
    "def predict_label(train, d, k, num_classes):\n",
    "    '''\n",
    "        Applys KNN Algorithm and predicts the label of 'd' instance\n",
    "        \n",
    "        Arguments\n",
    "        ---------\n",
    "        train: list of JSON Objects\n",
    "            Array of shape (m, ), where m is number of training examples and every element is a JSON object with \n",
    "            2 keys 'features' that is a NUMPY array of shape (n, ) where n is the number of features and \n",
    "            'label' is an integer representing encoded label of that instance\n",
    "            \n",
    "        d: JSON Object\n",
    "            A JSON object with 2 keys, 'features' that is a NUMPY array of shape (n, ) where n is the number of \n",
    "            features and 'label' is an integer representing encoded label of that instance\n",
    "        \n",
    "        k: int\n",
    "            The number of smallest elements that are to be returned.\n",
    "            \n",
    "        num_classes: int\n",
    "            Number of classes in the dataset\n",
    "        \n",
    "        Returns\n",
    "        -------\n",
    "        y_cap: int\n",
    "            The predicted and encoded label of 'd'\n",
    "    '''\n",
    "    y_cap = None\n",
    "    distances = np.array([{'distance': np.linalg.norm(x['features']-d['features']), 'label': x['label']} for x in train])# O(mn)\n",
    "    KNN = get_KNN(distances, k) # O(n)\n",
    "    y_cap = get_max_label(KNN, num_classes) # O(k)\n",
    "    return y_cap"
   ]
  },
  {
   "cell_type": "markdown",
   "metadata": {},
   "source": [
    "* ***Testing Function***"
   ]
  },
  {
   "cell_type": "code",
   "execution_count": 72,
   "metadata": {},
   "outputs": [],
   "source": [
    "def testKNN(train, test, k, num_classes):\n",
    "    '''\n",
    "        Applys KNN Algorithm and predicts the labels of all test dataset and builds a confusion matrix\n",
    "        \n",
    "        Arguments\n",
    "        ---------\n",
    "        train: list of JSON Objects\n",
    "            Array of shape (m, ), where m is number of training examples and every element is a JSON object with \n",
    "            2 keys 'features' that is a NUMPY array of shape (n, ) where n is the number of features and \n",
    "            'label' is an integer representing encoded label of that instance\n",
    "            \n",
    "        test: list of JSON Objects\n",
    "            Array of shape (m, ), where m is number of testing instances and every element is a JSON object with \n",
    "            2 keys 'features' that is a NUMPY array of shape (n, ) where n is the number of features and \n",
    "            'label' is an integer representing encoded label of that instance\n",
    "        \n",
    "        k: int\n",
    "            The number of smallest elements that are to be returned.\n",
    "            \n",
    "        num_classes: int\n",
    "            Number of classes in the dataset\n",
    "        \n",
    "        Returns\n",
    "        -------\n",
    "        cm: numpy array\n",
    "            Array of shape (k, k), where k is the number of classes\n",
    "    '''\n",
    "    cm = np.zeros((num_classes, num_classes))\n",
    "    \n",
    "    for d in tqdm(test):\n",
    "        pred_c = predict_label(train, d, k, num_classes)\n",
    "        cm[pred_c][d['label']] += 1\n",
    "    \n",
    "    return cm"
   ]
  },
  {
   "cell_type": "markdown",
   "metadata": {},
   "source": [
    "* ***Processing***"
   ]
  },
  {
   "cell_type": "code",
   "execution_count": 63,
   "metadata": {},
   "outputs": [
    {
     "data": {
      "application/vnd.jupyter.widget-view+json": {
       "model_id": "9a86f7a1bb3e4bfcb3e635b320d79eb8",
       "version_major": 2,
       "version_minor": 0
      },
      "text/plain": [
       "HBox(children=(IntProgress(value=0, max=22890), HTML(value='')))"
      ]
     },
     "metadata": {},
     "output_type": "display_data"
    },
    {
     "name": "stdout",
     "output_type": "stream",
     "text": [
      "\n"
     ]
    },
    {
     "data": {
      "application/vnd.jupyter.widget-view+json": {
       "model_id": "e5a8a5f297ca4b0aa2d2300e5e305b8e",
       "version_major": 2,
       "version_minor": 0
      },
      "text/plain": [
       "HBox(children=(IntProgress(value=0, max=5724), HTML(value='')))"
      ]
     },
     "metadata": {},
     "output_type": "display_data"
    },
    {
     "name": "stdout",
     "output_type": "stream",
     "text": [
      "\n"
     ]
    }
   ],
   "source": [
    "num_classes = 2\n",
    "knn_train_data = knn_preprocessor(train_X, train_Y)\n",
    "knn_test_data = knn_preprocessor(test_X, test_Y)"
   ]
  },
  {
   "cell_type": "markdown",
   "metadata": {},
   "source": [
    "* ***Testing***"
   ]
  },
  {
   "cell_type": "code",
   "execution_count": 82,
   "metadata": {},
   "outputs": [
    {
     "data": {
      "application/vnd.jupyter.widget-view+json": {
       "model_id": "0cac6a62bfe14158968a347870069536",
       "version_major": 2,
       "version_minor": 0
      },
      "text/plain": [
       "HBox(children=(IntProgress(value=0, max=5724), HTML(value='')))"
      ]
     },
     "metadata": {},
     "output_type": "display_data"
    }
   ],
   "source": [
    "k1_cm = testKNN(knn_train_data, knn_test_data, 1, num_classes)"
   ]
  },
  {
   "cell_type": "code",
   "execution_count": 86,
   "metadata": {},
   "outputs": [
    {
     "data": {
      "application/vnd.jupyter.widget-view+json": {
       "model_id": "2857dc83937443f3b02f9d2fa2f39586",
       "version_major": 2,
       "version_minor": 0
      },
      "text/plain": [
       "HBox(children=(IntProgress(value=0, max=5724), HTML(value='')))"
      ]
     },
     "metadata": {},
     "output_type": "display_data"
    }
   ],
   "source": [
    "k3_cm = testKNN(knn_train_data, knn_test_data, 3, num_classes)"
   ]
  },
  {
   "cell_type": "code",
   "execution_count": null,
   "metadata": {},
   "outputs": [],
   "source": [
    "k5_cm = testKNN(knn_train_data, knn_test_data, 5, num_classes)"
   ]
  },
  {
   "cell_type": "code",
   "execution_count": null,
   "metadata": {},
   "outputs": [],
   "source": [
    "k7_cm = testKNN(knn_train_data, knn_test_data, 7, num_classes)"
   ]
  },
  {
   "cell_type": "code",
   "execution_count": null,
   "metadata": {},
   "outputs": [],
   "source": [
    "k10_cm = testKNN(knn_train_data, knn_test_data, 10, num_classes)"
   ]
  },
  {
   "cell_type": "markdown",
   "metadata": {},
   "source": [
    "### Perceptron"
   ]
  },
  {
   "cell_type": "code",
   "execution_count": null,
   "metadata": {},
   "outputs": [],
   "source": []
  },
  {
   "cell_type": "markdown",
   "metadata": {},
   "source": [
    "#### Evaluation Functions"
   ]
  },
  {
   "cell_type": "code",
   "execution_count": 84,
   "metadata": {},
   "outputs": [],
   "source": [
    "def evaluation_matrix(cm, classes):\n",
    "    '''\n",
    "        Plots confusion matrix and calculates Macro accuracy, precision, recall, f1 score\n",
    "\n",
    "        Arguments\n",
    "        ---------\n",
    "        cm: numpy array\n",
    "            Array of shape (k, k), where k is the number of classes\n",
    "            \n",
    "        classes: list\n",
    "            Array of encoded labels of shape (c, ), where c is the number of classes\n",
    "    '''\n",
    "    df_cm = pd.DataFrame(cm, index = [i for i in classes],\n",
    "              columns = [i for i in classes])\n",
    "    sn.set(font_scale=1.4)\n",
    "    sn.heatmap(df_cm, annot=True, annot_kws={\"size\": 16}, fmt='g', cmap=\"BuPu\")\n",
    "    plt.show()\n",
    "    # Calculating Accuracy\n",
    "    accuracy = np.sum(np.array([cm[i][i] for i in range(len(cm))])) / np.sum(cm)\n",
    "    print(\"\\n\\nAccuracy = %.2f\" % (accuracy))\n",
    "    # Calculating Precision\n",
    "    precision = cm[0][0]/(cm[0][0]+cm[0][1])\n",
    "    print(\"Precision = %.2f\" % (precision))\n",
    "    # Calculating Recall\n",
    "    recall = cm[0][0]/(cm[0][0]+cm[1][0])\n",
    "    print(\"Recall = %.2f\" % (recall))\n",
    "    # Calculating F1 Score\n",
    "    f1_score = (2*recall*precision)/(recall+precision)\n",
    "    print(\"F1 Score = %.2f\" % (f1_score))"
   ]
  },
  {
   "cell_type": "markdown",
   "metadata": {},
   "source": [
    "## Evaluation Report"
   ]
  },
  {
   "cell_type": "code",
   "execution_count": 77,
   "metadata": {},
   "outputs": [],
   "source": [
    "classes = [\"Not Sarcastic\", \"Sarcastic\"]"
   ]
  },
  {
   "cell_type": "markdown",
   "metadata": {},
   "source": [
    "### Logistic Regression"
   ]
  },
  {
   "cell_type": "code",
   "execution_count": null,
   "metadata": {},
   "outputs": [],
   "source": []
  },
  {
   "cell_type": "markdown",
   "metadata": {},
   "source": [
    "### KNN"
   ]
  },
  {
   "cell_type": "markdown",
   "metadata": {},
   "source": [
    "* k = 1"
   ]
  },
  {
   "cell_type": "code",
   "execution_count": 85,
   "metadata": {},
   "outputs": [
    {
     "data": {
      "image/png": "[encoded data removed]",
      "text/plain": [
       "<Figure size 432x288 with 2 Axes>"
      ]
     },
     "metadata": {},
     "output_type": "display_data"
    },
    {
     "name": "stdout",
     "output_type": "stream",
     "text": [
      "\n",
      "\n",
      "Accuracy = 0.69\n",
      "Precision = 0.75\n",
      "Recall = 0.61\n",
      "F1 Score = 0.68\n"
     ]
    }
   ],
   "source": [
    "evaluation_matrix(k1_cm, classes)"
   ]
  },
  {
   "cell_type": "markdown",
   "metadata": {},
   "source": [
    "* k = 3"
   ]
  },
  {
   "cell_type": "code",
   "execution_count": 75,
   "metadata": {},
   "outputs": [
    {
     "data": {
      "application/vnd.jupyter.widget-view+json": {
       "model_id": "d5019b4449a54874b24810217146bd48",
       "version_major": 2,
       "version_minor": 0
      },
      "text/plain": [
       "HBox(children=(IntProgress(value=0, max=5724), HTML(value='')))"
      ]
     },
     "metadata": {},
     "output_type": "display_data"
    },
    {
     "data": {
      "text/plain": [
       "array([[1820.,  484.],\n",
       "       [1177., 2243.]])"
      ]
     },
     "execution_count": 75,
     "metadata": {},
     "output_type": "execute_result"
    }
   ],
   "source": [
    "evaluation_matrix(k3_cm, classes)"
   ]
  },
  {
   "cell_type": "markdown",
   "metadata": {},
   "source": [
    "* k = 5"
   ]
  },
  {
   "cell_type": "code",
   "execution_count": null,
   "metadata": {},
   "outputs": [],
   "source": [
    "evaluation_matrix(k5_cm, classes)"
   ]
  },
  {
   "cell_type": "markdown",
   "metadata": {},
   "source": [
    "* k = 7"
   ]
  },
  {
   "cell_type": "code",
   "execution_count": null,
   "metadata": {},
   "outputs": [],
   "source": [
    "evaluation_matrix(k7_cm, classes)"
   ]
  },
  {
   "cell_type": "markdown",
   "metadata": {},
   "source": [
    "* k = 10"
   ]
  },
  {
   "cell_type": "code",
   "execution_count": null,
   "metadata": {},
   "outputs": [],
   "source": [
    "evaluation_matrix(k10_cm, classes)"
   ]
  }
 ],
 "metadata": {
  "kernelspec": {
   "display_name": "Python 3",
   "language": "python",
   "name": "python3"
  },
  "language_info": {
   "codemirror_mode": {
    "name": "ipython",
    "version": 3
   },
   "file_extension": ".py",
   "mimetype": "text/x-python",
   "name": "python",
   "nbconvert_exporter": "python",
   "pygments_lexer": "ipython3",
   "version": "3.7.3"
  }
 },
 "nbformat": 4,
 "nbformat_minor": 2
}
